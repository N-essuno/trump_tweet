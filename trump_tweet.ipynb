{
 "cells": [
  {
   "cell_type": "code",
   "execution_count": 165,
   "id": "initial_id",
   "metadata": {
    "collapsed": true,
    "ExecuteTime": {
     "end_time": "2024-02-22T16:58:33.138100600Z",
     "start_time": "2024-02-22T16:58:33.046099100Z"
    }
   },
   "outputs": [],
   "source": [
    "from nltk import ngrams\n",
    "import pandas as pd\n",
    "from typing import List, Tuple, Optional\n",
    "from nltk.tokenize import word_tokenize\n",
    "from collections import Counter\n",
    "import random"
   ]
  },
  {
   "cell_type": "markdown",
   "source": [
    "## 1. Load the data and retrieve tweets tokens"
   ],
   "metadata": {
    "collapsed": false
   },
   "id": "3a930147827f7723"
  },
  {
   "cell_type": "code",
   "execution_count": 166,
   "outputs": [
    {
     "name": "stdout",
     "output_type": "stream",
     "text": [
      "['<s>', 'LOSER', '!', 'https', ':', '//t.co/p5imhMJqS1', '</s>']\n"
     ]
    }
   ],
   "source": [
    "df = pd.read_csv('resources/tweets.csv')\n",
    "tweets_texts: List[str] = df['text'].tolist()\n",
    "tweets_tokens = [word_tokenize(tweet) for tweet in tweets_texts]\n",
    "# add start and end tokens to each tweet\n",
    "tweets_tokens = [['<s>'] + tweet + ['</s>'] for tweet in tweets_tokens]\n",
    "# merge all tokens into one list\n",
    "tokens = [token for tweet in tweets_tokens for token in tweet]\n",
    "\n",
    "print(tweets_tokens[0])"
   ],
   "metadata": {
    "collapsed": false,
    "ExecuteTime": {
     "end_time": "2024-02-22T16:58:33.252967200Z",
     "start_time": "2024-02-22T16:58:33.062124800Z"
    }
   },
   "id": "b82b1f3ee6df8b6d"
  },
  {
   "cell_type": "markdown",
   "source": [
    "## 2. Generate n-grams"
   ],
   "metadata": {
    "collapsed": false
   },
   "id": "1e730e8b83e26fcf"
  },
  {
   "cell_type": "code",
   "execution_count": 167,
   "outputs": [],
   "source": [
    "bigrams = list(ngrams(tokens, 2))\n",
    "trigrams = list(ngrams(tokens, 3))"
   ],
   "metadata": {
    "collapsed": false,
    "ExecuteTime": {
     "end_time": "2024-02-22T16:58:33.252967200Z",
     "start_time": "2024-02-22T16:58:33.212971Z"
    }
   },
   "id": "305d6fd730cc1b7d"
  },
  {
   "cell_type": "markdown",
   "source": [
    "## 3. Count n-grams frequencies"
   ],
   "metadata": {
    "collapsed": false
   },
   "id": "242ff5fd249f90c4"
  },
  {
   "cell_type": "code",
   "execution_count": 168,
   "outputs": [],
   "source": [
    "bigrams_freq = Counter(bigrams)\n",
    "trigrams_freq = Counter(trigrams)"
   ],
   "metadata": {
    "collapsed": false,
    "ExecuteTime": {
     "end_time": "2024-02-22T16:58:33.289094100Z",
     "start_time": "2024-02-22T16:58:33.248971700Z"
    }
   },
   "id": "b4df8f394825f916"
  },
  {
   "cell_type": "markdown",
   "source": [
    "## 4. Generate tweets"
   ],
   "metadata": {
    "collapsed": false
   },
   "id": "28e8f453c9406b47"
  },
  {
   "cell_type": "code",
   "execution_count": 169,
   "outputs": [],
   "source": [
    "def generate_tweets_from_bigrams(num_words: int = 20, start_word: Optional[str] = \"<s>\") -> str:\n",
    "    current_word = start_word\n",
    "    tweet = [current_word]\n",
    "    for _ in range(num_words):\n",
    "        # get all bigrams that start with the current word\n",
    "        candidates = [bigram for bigram in bigrams_freq if bigram[0] == current_word]\n",
    "        if len(candidates) == 0:\n",
    "            # if there are no bigrams which start with current word we stop generating the tweet\n",
    "            break\n",
    "        # get next bigram based on frequency, the higher the frequency the more likely the bigram will be chosen\n",
    "        next_bigram = random.choices(candidates, weights=[bigrams_freq[bigram] for bigram in candidates], k=1)[0]\n",
    "        next_word = next_bigram[1]\n",
    "        if next_word == \"</s>\":\n",
    "            # if the next word is the end token we stop generating the tweet\n",
    "            break\n",
    "        tweet.append(next_word)\n",
    "        current_word = next_word\n",
    "    return ' '.join(tweet).removeprefix('<s>')"
   ],
   "metadata": {
    "collapsed": false,
    "ExecuteTime": {
     "end_time": "2024-02-22T16:58:33.352965700Z",
     "start_time": "2024-02-22T16:58:33.276968800Z"
    }
   },
   "id": "86e475ed8b4f8593"
  },
  {
   "cell_type": "code",
   "execution_count": 170,
   "outputs": [],
   "source": [
    "def generate_tweets_from_trigrams(start_words: Tuple[str, str], num_words: int = 20) -> str:\n",
    "    current_words = start_words\n",
    "    tweet = list(current_words)\n",
    "    for _ in range(num_words):\n",
    "        # get all trigrams that start with the current words\n",
    "        candidates = [trigram for trigram in trigrams_freq if trigram[:2] == current_words]\n",
    "        if len(candidates) == 0:\n",
    "            # if there are no trigrams which start with current word we stop generating the tweet\n",
    "            break\n",
    "        # get next trigram based on frequency, the higher the frequency the more likely the trigram will be chosen\n",
    "        next_trigram = random.choices(candidates, weights=[trigrams_freq[trigram] for trigram in candidates], k=1)[0]\n",
    "        next_word = next_trigram[2]\n",
    "        tweet.append(next_word)\n",
    "        current_words = (current_words[1], next_word)\n",
    "    return ' '.join(tweet)"
   ],
   "metadata": {
    "collapsed": false,
    "ExecuteTime": {
     "end_time": "2024-02-22T16:58:33.392973500Z",
     "start_time": "2024-02-22T16:58:33.296970300Z"
    }
   },
   "id": "4d9f88808ab13dc6"
  },
  {
   "cell_type": "code",
   "execution_count": 174,
   "outputs": [
    {
     "name": "stdout",
     "output_type": "stream",
     "text": [
      " Don than to fire @ SeanMcQuade : Show me someone tweets that all haters (\n"
     ]
    }
   ],
   "source": [
    "test_tweet_bigram = generate_tweets_from_bigrams(15)\n",
    "print(test_tweet_bigram)"
   ],
   "metadata": {
    "collapsed": false,
    "ExecuteTime": {
     "end_time": "2024-02-22T16:58:37.506248100Z",
     "start_time": "2024-02-22T16:58:37.481481900Z"
    }
   },
   "id": "de6a068d1df7b1db"
  },
  {
   "cell_type": "code",
   "execution_count": 172,
   "outputs": [
    {
     "name": "stdout",
     "output_type": "stream",
     "text": [
      "Fake News of big ratings loser CNN . https : //t.co/fxZh8zNhks </s> <s> The Fake News of\n"
     ]
    }
   ],
   "source": [
    "test_tweet_trigram = generate_tweets_from_trigrams(('Fake', 'News'), 15)\n",
    "print(test_tweet_trigram)"
   ],
   "metadata": {
    "collapsed": false,
    "ExecuteTime": {
     "end_time": "2024-02-22T16:58:33.449020500Z",
     "start_time": "2024-02-22T16:58:33.344992300Z"
    }
   },
   "id": "8e8fbe551a3e0761"
  },
  {
   "cell_type": "markdown",
   "source": [],
   "metadata": {
    "collapsed": false
   },
   "id": "c1017477c20f5b9c"
  }
 ],
 "metadata": {
  "kernelspec": {
   "display_name": "Python 3",
   "language": "python",
   "name": "python3"
  },
  "language_info": {
   "codemirror_mode": {
    "name": "ipython",
    "version": 2
   },
   "file_extension": ".py",
   "mimetype": "text/x-python",
   "name": "python",
   "nbconvert_exporter": "python",
   "pygments_lexer": "ipython2",
   "version": "2.7.6"
  }
 },
 "nbformat": 4,
 "nbformat_minor": 5
}
